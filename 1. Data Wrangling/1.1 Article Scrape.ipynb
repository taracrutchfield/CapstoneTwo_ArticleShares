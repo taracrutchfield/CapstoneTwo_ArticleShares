{
 "cells": [
  {
   "cell_type": "markdown",
   "metadata": {},
   "source": [
    "# Web Scrape\n",
    "\n",
    "Since the original dataset was a bit incomplete, I decided to take a look at the HTML myself to fill in some of the missing pieces, as well as collect some new features as well. As you can imagine, this process took a long time so I added multithreading to make the process a bit faster"
   ]
  },
  {
   "cell_type": "code",
   "execution_count": 1,
   "metadata": {},
   "outputs": [],
   "source": [
    "# imports\n",
    "import numpy as np\n",
    "import pandas as pd\n",
    "import os\n",
    "import requests\n",
    "from bs4 import BeautifulSoup\n",
    "\n",
    "# Multithreading\n",
    "import asyncio\n",
    "from concurrent.futures import ThreadPoolExecutor\n",
    "import nest_asyncio\n",
    "\n",
    "nest_asyncio.apply()"
   ]
  },
  {
   "cell_type": "code",
   "execution_count": 2,
   "metadata": {},
   "outputs": [],
   "source": [
    "def fetch(session,url):\n",
    "    '''Takes url and finds the data channel, publish date, article title, and article keywords.'''\n",
    "    \n",
    "    html = requests.get(url).text\n",
    "    soup = BeautifulSoup(html, 'html.parser')\n",
    "    \n",
    "    global updated, col_names, n\n",
    "    \n",
    "    try:\n",
    "        '''At some point mashable changed the style of their article urls, this checks \n",
    "        whether an error page comes up and if so makes the required replacement.'''\n",
    "        \n",
    "        if str(soup.findAll('h1')[0]) == '<h1>The Bad News</h1>':\n",
    "            url_sub = url[:20]+'article'+url[30:]\n",
    "            html = requests.get(url_sub).text\n",
    "            soup = BeautifulSoup(html, 'html.parser')\n",
    "    except:\n",
    "        updated = updated.append(pd.DataFrame({col_names[0]:[url],\n",
    "                                               col_names[1]:['Unlabeled'],\n",
    "                                               col_names[2]:[np.nan],\n",
    "                                               col_names[3]:[np.nan],\n",
    "                                               col_names[4]:[np.nan]}).set_index('url'))\n",
    "        # progress tracker\n",
    "        print('\\r%.3f%%' % (len(updated)/n * 100),end=\"\")\n",
    "        return\n",
    "    \n",
    "    # Find the labeled data channel.\n",
    "    try:\n",
    "        channel = soup.findAll('article',{'class':'full post story'})[0]['data-channel']\n",
    "    except:\n",
    "        channel = 'Unlabeled'\n",
    "        \n",
    "    # Find the publish date.\n",
    "    try:\n",
    "        date = str(soup.findAll('div',{'class':'article-info'})[0].findAll('time')[0])[16:33]\n",
    "    except:\n",
    "        date = np.NaN\n",
    "    \n",
    "    # Find the aricle title.\n",
    "    try:    \n",
    "        title = soup.findAll('title')[0]\n",
    "    except:\n",
    "        title = 'Untitled'\n",
    "        \n",
    "    # Fine article keywords    \n",
    "    try:\n",
    "        keywords = soup.findAll('footer',{'class','article-topics'})[0].findAll('a')\n",
    "    except:\n",
    "        keywords = np.nan\n",
    "        \n",
    "    updated = updated.append(pd.DataFrame({col_names[0]:[url],\n",
    "                                           col_names[1]:[channel],\n",
    "                                           col_names[2]:[date],\n",
    "                                           col_names[3]:[title],\n",
    "                                           col_names[4]:[keywords]}).set_index('url'))\n",
    "    # progress tracker\n",
    "    print('\\r%.3f%%' % (len(updated)/n * 100),end=\"\")\n",
    "\n",
    "\n",
    "async def get_data_asynchronus(url_list):\n",
    "    with ThreadPoolExecutor(max_workers=40) as executor:\n",
    "        with requests.Session() as session:\n",
    "            loop = asyncio.get_event_loop()\n",
    "            tasks = [\n",
    "                loop.run_in_executor(\n",
    "                    executor,\n",
    "                    fetch,\n",
    "                    *(session,url),\n",
    "                )\n",
    "                for url in url_list\n",
    "            ]\n",
    "            for response in await asyncio.gather(*tasks):\n",
    "                pass\n",
    "\n",
    "def main(url_list):\n",
    "    loop = asyncio.get_event_loop()\n",
    "    future = asyncio.ensure_future(get_data_asynchronus(url_list))\n",
    "    loop.run_until_complete(future)\n",
    "    print(\"   [Process Complete]\")"
   ]
  },
  {
   "cell_type": "code",
   "execution_count": 3,
   "metadata": {},
   "outputs": [],
   "source": [
    "raw = pd.read_csv(\"../Data/Raw.csv\")\n",
    "n = len(raw)\n",
    "\n",
    "# If Updates already exists, add new entries to the existing entries\n",
    "if 'Web Results.csv' in os.listdir('../Data/'):\n",
    "    updated = pd.read_csv('../Data/Web Results.csv')\n",
    "    col_names = list(updated.columns)\n",
    "    updated = updated.set_index('url')\n",
    "    legend = raw.set_index('url').drop(index=updated.index[:]).reset_index().url\n",
    "\n",
    "# If Updates doesn't exist, make it exist\n",
    "if 'Web Results.csv' not in os.listdir('../Data/'):\n",
    "    col_names = ['url','channel','date','title','keywords']\n",
    "    updated = pd.DataFrame(columns=col_names).set_index('url')\n",
    "    legend = raw.set_index('url').drop(index=updated.index[:]).reset_index().url"
   ]
  },
  {
   "cell_type": "code",
   "execution_count": 4,
   "metadata": {},
   "outputs": [
    {
     "name": "stdout",
     "output_type": "stream",
     "text": [
      "   [Process Complete]\n"
     ]
    }
   ],
   "source": [
    "main(legend)"
   ]
  },
  {
   "cell_type": "code",
   "execution_count": 5,
   "metadata": {},
   "outputs": [],
   "source": [
    "# Save the new entries as a csv\n",
    "updated.to_csv('../Data/Web Results.csv')"
   ]
  }
 ],
 "metadata": {
  "kernelspec": {
   "display_name": "Python 3",
   "language": "python",
   "name": "python3"
  },
  "language_info": {
   "codemirror_mode": {
    "name": "ipython",
    "version": 3
   },
   "file_extension": ".py",
   "mimetype": "text/x-python",
   "name": "python",
   "nbconvert_exporter": "python",
   "pygments_lexer": "ipython3",
   "version": "3.8.5"
  }
 },
 "nbformat": 4,
 "nbformat_minor": 4
}
