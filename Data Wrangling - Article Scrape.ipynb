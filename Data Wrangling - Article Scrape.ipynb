{
 "cells": [
  {
   "cell_type": "markdown",
   "metadata": {},
   "source": [
    "# Web Scrape\n",
    "When I was first looking at the original dataset, I found that many of the entries were missing a data channel label. So I decided I'd look into it myself and thought I'd scrape the dates each article was published too. "
   ]
  },
  {
   "cell_type": "code",
   "execution_count": 1,
   "metadata": {},
   "outputs": [],
   "source": [
    "# The usual\n",
    "import numpy as np\n",
    "import pandas as pd\n",
    "from datetime import datetime\n",
    "# BeautifulSoup for the Soul: web scrapping modules\n",
    "import requests\n",
    "from bs4 import BeautifulSoup\n",
    "# Scrape was taking too long so multithreading!\n",
    "import asyncio\n",
    "from concurrent.futures import ThreadPoolExecutor\n",
    "import nest_asyncio\n",
    "\n",
    "nest_asyncio.apply()\n",
    "\n",
    "raw = pd.read_csv(\"OnlineNewsPopularity.csv\")"
   ]
  },
  {
   "cell_type": "markdown",
   "metadata": {},
   "source": [
    "Start by setting up my definition for fetch and getting my multithreading process up"
   ]
  },
  {
   "cell_type": "code",
   "execution_count": 2,
   "metadata": {},
   "outputs": [],
   "source": [
    "def fetch(session,url):\n",
    "    '''Fetch uses the url of the article to get it's html. From here I can sort through and find the \n",
    "    specified channel and the date. Some of these articles didn't specify the desired information using \n",
    "    the same html as the others or have since been removed so for now I'm creating an Unlabeled channel \n",
    "    for articles without a specified data channel and using NaN for the dates. It then saves these values\n",
    "    in the dictionary new_channels with the url as the key'''\n",
    "    \n",
    "    html = requests.get(url).text\n",
    "    soup = BeautifulSoup(html, 'html.parser')\n",
    "    \n",
    "    # It seems that the style of url changed at some point for some articles. The url from the dataset\n",
    "    # includes the date but now this date has been replaced by the word 'article'. So if I initialy get  \n",
    "    # the 'this page is missing' page, I make the change and see if I get anything different. \n",
    "    \n",
    "    try:\n",
    "        if str(soup.findAll('h1')[0]) == '<h1>The Bad News</h1>':\n",
    "            url = url[:20]+'article'+url[30:]\n",
    "            html = requests.get(url).text\n",
    "            soup = BeautifulSoup(html, 'html.parser')\n",
    "    except:\n",
    "        new_channels[url] = ('Unlabeled',np.NaN)\n",
    "        print('\\r%.3f%%' % (len(new_channels)/39644 * 100),end=\"\")\n",
    "        return\n",
    "    \n",
    "    # Find the labeled data channel, if it can't be found then replace the entry with \"Unlabeled\"\n",
    "    try:\n",
    "        channel = soup.findAll('article',{'class':'full post story'})[0]['data-channel']\n",
    "    except:\n",
    "        channel = 'Unlabeled'\n",
    "        \n",
    "    # Find the publish date, if it can't be found then replace the entry with \"NaN\"    \n",
    "    try:\n",
    "        date = soup.findAll('time')[0]['datetime']\n",
    "    except:\n",
    "        date = np.NaN\n",
    "        \n",
    "    # create a dictionary entry to save the results\n",
    "    new_channels[url] = (channel,date)\n",
    "    \n",
    "    # A progress bar, just to tell you how much has been completed. \n",
    "    print('\\r%.3f%%' % (len(new_channels)/39644 * 100),end=\"\")\n",
    "\n",
    "async def get_data_asynchronus(url_list):\n",
    "    with ThreadPoolExecutor(max_workers=40) as executor:\n",
    "        with requests.Session() as session:\n",
    "            loop = asyncio.get_event_loop()\n",
    "            tasks = [\n",
    "                loop.run_in_executor(\n",
    "                    executor,\n",
    "                    fetch,\n",
    "                    *(session,url)\n",
    "                )\n",
    "                for url in url_list\n",
    "            ]\n",
    "            for response in await asyncio.gather(*tasks):\n",
    "                pass\n",
    "\n",
    "def main(url_list):\n",
    "    loop = asyncio.get_event_loop()\n",
    "    future = asyncio.ensure_future(get_data_asynchronus(url_list))\n",
    "    loop.run_until_complete(future)\n",
    "    print(\"   [Process Complete]\")"
   ]
  },
  {
   "cell_type": "code",
   "execution_count": 3,
   "metadata": {},
   "outputs": [
    {
     "name": "stdout",
     "output_type": "stream",
     "text": [
      "100.000%   [Process Complete]\n"
     ]
    }
   ],
   "source": [
    "# create my empty new_channel dictionary and begin the scrape!\n",
    "new_channels=dict()\n",
    "main(raw['url'])"
   ]
  },
  {
   "cell_type": "markdown",
   "metadata": {},
   "source": [
    "Turn that weird dictionary into a pandas dataframe so I can turn it into a csv."
   ]
  },
  {
   "cell_type": "code",
   "execution_count": 4,
   "metadata": {},
   "outputs": [],
   "source": [
    "# dict entries to list\n",
    "urls = list(new_channels.keys())\n",
    "channels = list(zip(*new_channels.values()))[0]\n",
    "dates = list(zip(*new_channels.values()))[1]\n",
    "\n",
    "# list to pandas dataframe\n",
    "to_csv = pd.DataFrame({'url':urls,'channel':channels,'date':dates})\n",
    "\n",
    "# sperate the time stamp into weekday and date\n",
    "to_csv['weekday'] = to_csv['date'].str.split(\",\", n = 1, expand = True)[0]\n",
    "to_csv['date'] = pd.to_datetime(to_csv['date'].str.split(\",\", n = 1, expand = True)[1])\n",
    "\n",
    "# to the csv!\n",
    "to_csv.to_csv('DatesAndChannels.csv',index=False)"
   ]
  },
  {
   "cell_type": "code",
   "execution_count": 5,
   "metadata": {},
   "outputs": [
    {
     "name": "stdout",
     "output_type": "stream",
     "text": [
      "<class 'pandas.core.frame.DataFrame'>\n",
      "RangeIndex: 39644 entries, 0 to 39643\n",
      "Data columns (total 4 columns):\n",
      " #   Column   Non-Null Count  Dtype \n",
      "---  ------   --------------  ----- \n",
      " 0   url      39644 non-null  object\n",
      " 1   channel  39644 non-null  object\n",
      " 2   date     39456 non-null  object\n",
      " 3   weekday  39456 non-null  object\n",
      "dtypes: object(4)\n",
      "memory usage: 1.2+ MB\n"
     ]
    }
   ],
   "source": [
    "to_csv.info()"
   ]
  },
  {
   "cell_type": "code",
   "execution_count": null,
   "metadata": {},
   "outputs": [],
   "source": []
  }
 ],
 "metadata": {
  "kernelspec": {
   "display_name": "Python 3",
   "language": "python",
   "name": "python3"
  },
  "language_info": {
   "codemirror_mode": {
    "name": "ipython",
    "version": 3
   },
   "file_extension": ".py",
   "mimetype": "text/x-python",
   "name": "python",
   "nbconvert_exporter": "python",
   "pygments_lexer": "ipython3",
   "version": "3.7.6"
  }
 },
 "nbformat": 4,
 "nbformat_minor": 4
}
